{
 "cells": [
  {
   "cell_type": "code",
   "execution_count": 1,
   "metadata": {},
   "outputs": [],
   "source": [
    "#######################Linear and nonlinear regression Closed-form, GD & SGD#########################\n",
    "import numpy as np\n",
    "import matplotlib.pyplot as plt\n",
    "\n",
    "X = np.arange(-3,3,0.05)\n",
    "X = X.reshape([np.size(X),1])\n",
    "y = X*np.cos(X)"
   ]
  },
  {
   "cell_type": "code",
   "execution_count": 2,
   "metadata": {},
   "outputs": [
    {
     "data": {
      "text/plain": [
       "array([[-0.55032547]])"
      ]
     },
     "execution_count": 2,
     "metadata": {},
     "output_type": "execute_result"
    }
   ],
   "source": [
    "w_cl= np.matmul(np.linalg.inv(np.matmul(X.T,X)),np.matmul(X.T,y))\n",
    "w_cl"
   ]
  },
  {
   "cell_type": "code",
   "execution_count": 3,
   "metadata": {},
   "outputs": [
    {
     "data": {
      "text/plain": [
       "array([[-0.53626183]])"
      ]
     },
     "execution_count": 3,
     "metadata": {},
     "output_type": "execute_result"
    }
   ],
   "source": [
    "# GD\n",
    "w_gd = np.zeros(np.shape(X)[1])\n",
    "w_gd = w_gd.reshape(np.shape(X)[1],1)\n",
    "jj=0\n",
    "alpha = 0.0001\n",
    "while jj<100:\n",
    "    w_gd = w_gd - alpha *np.matmul(X.T , (np.matmul(X,w_gd) - y))\n",
    "    jj += 1\n",
    "w_gd"
   ]
  },
  {
   "cell_type": "code",
   "execution_count": 4,
   "metadata": {},
   "outputs": [
    {
     "data": {
      "text/plain": [
       "array([-0.83763525])"
      ]
     },
     "execution_count": 4,
     "metadata": {},
     "output_type": "execute_result"
    }
   ],
   "source": [
    "# SGD\n",
    "w_sgd = np.zeros(np.shape(X)[1])\n",
    "jj=0\n",
    "alpha = 0.02\n",
    "while jj<80:\n",
    "    for i in range(np.shape(X)[0]):\n",
    "        w_sgd = w_sgd + alpha*X[i,:] * (y[i] - np.matmul(w_sgd.T,X[i,:]))\n",
    "    jj += 1\n",
    "w_sgd"
   ]
  },
  {
   "cell_type": "code",
   "execution_count": 5,
   "metadata": {},
   "outputs": [
    {
     "data": {
      "image/png": "[encoded data removed]",
      "text/plain": [
       "<Figure size 432x288 with 1 Axes>"
      ]
     },
     "metadata": {
      "needs_background": "light"
     },
     "output_type": "display_data"
    }
   ],
   "source": [
    "plt.plot(X,y,'o')\n",
    "plt.plot(X,np.matmul(X,w_cl),label = \"w_cl\")\n",
    "plt.plot(X,np.matmul(X,w_gd),label = \"w_gd\")\n",
    "plt.plot(X,np.matmul(X,w_sgd),label = \"w_sgd\")\n",
    "\n",
    "\n",
    "plt.legend(loc = \"upper right\")\n",
    "plt.show()"
   ]
  },
  {
   "cell_type": "code",
   "execution_count": 6,
   "metadata": {},
   "outputs": [],
   "source": [
    "#########################Feature Engineering#################################\n",
    "num =10\n",
    "l = np.random.choice(len(X),num)\n",
    "l = X[l,:]\n",
    "l = np.unique(l)\n",
    "beta = 0.3\n",
    "similarities = {}\n",
    "for x in X[:,0]:\n",
    "    for i in l:\n",
    "        similarities[x,i] =  np.exp(-beta * np.abs(x-i)**2 )\n",
    "new_x = np.array(list(similarities.values()))\n",
    "new_x = new_x.reshape([np.shape(X)[0] , np.size(l)])"
   ]
  },
  {
   "cell_type": "code",
   "execution_count": 7,
   "metadata": {},
   "outputs": [
    {
     "data": {
      "text/plain": [
       "array([[ 1.51907085e+01],\n",
       "       [-7.09541877e+01],\n",
       "       [ 3.95951531e+03],\n",
       "       [-1.62832778e+04],\n",
       "       [ 1.40365373e+04],\n",
       "       [-1.74445605e+03],\n",
       "       [ 1.05924620e+02],\n",
       "       [-2.86043616e+01],\n",
       "       [ 1.01354384e+01]])"
      ]
     },
     "execution_count": 7,
     "metadata": {},
     "output_type": "execute_result"
    }
   ],
   "source": [
    "w_cl = np.matmul(np.linalg.inv(np.matmul(new_x.T,new_x)),np.matmul(new_x.T,y))\n",
    "w_cl"
   ]
  },
  {
   "cell_type": "code",
   "execution_count": 8,
   "metadata": {},
   "outputs": [
    {
     "name": "stdout",
     "output_type": "stream",
     "text": [
      "Converged to  w =  [[ 3.86177709]\n",
      " [-2.65495399]\n",
      " [-1.43488209]\n",
      " [-0.47050325]\n",
      " [ 0.02513525]\n",
      " [ 1.6290128 ]\n",
      " [ 2.76091492]\n",
      " [-1.61818952]\n",
      " [-2.51750481]]  on iter:  1168\n"
     ]
    }
   ],
   "source": [
    "# GD\n",
    "w_gd = np.zeros(np.shape(new_x)[1])\n",
    "w_gd = w_gd.reshape(np.shape(new_x)[1],1)\n",
    "jj=0\n",
    "alpha = 0.001\n",
    "while True:\n",
    "    old_w = w_gd\n",
    "    w_gd = w_gd - alpha *np.matmul(new_x.T , (np.matmul(new_x,w_gd) - y))\n",
    "    \n",
    "    if np.linalg.norm(w_gd -old_w)<0.001:\n",
    "        break\n",
    "    elif jj>3000:\n",
    "        break\n",
    "    \n",
    "    jj += 1\n",
    "print(\"Converged to  w = \",w_gd,\" on iter: \",jj)"
   ]
  },
  {
   "cell_type": "code",
   "execution_count": 9,
   "metadata": {},
   "outputs": [
    {
     "name": "stdout",
     "output_type": "stream",
     "text": [
      "Converged to  w =  [ 4.47420098 -3.6169815  -1.13749388 -0.20618483  0.2382019   1.55951411\n",
      "  2.38169193 -1.4960303  -2.48037261]  on iter:  1016\n"
     ]
    }
   ],
   "source": [
    "# SGD\n",
    "w_sgd = np.zeros(np.shape(new_x)[1])\n",
    "jj=0\n",
    "alpha = 0.005\n",
    "while True:\n",
    "    old_w = w_sgd\n",
    "    for i in range(np.shape(new_x)[0]):\n",
    "        w_sgd = w_sgd + alpha*new_x[i,:] * (y[i] - np.matmul(w_sgd.T,new_x[i,:]))\n",
    "    \n",
    "    if np.linalg.norm(w_sgd -old_w)<0.001:\n",
    "        break\n",
    "    elif jj>3000:\n",
    "        break\n",
    "    \n",
    "    jj += 1\n",
    "print(\"Converged to  w = \",w_sgd,\" on iter: \",jj)"
   ]
  },
  {
   "cell_type": "code",
   "execution_count": 10,
   "metadata": {},
   "outputs": [
    {
     "data": {
      "image/png": "[encoded data removed]",
      "text/plain": [
       "<Figure size 432x288 with 1 Axes>"
      ]
     },
     "metadata": {
      "needs_background": "light"
     },
     "output_type": "display_data"
    }
   ],
   "source": [
    "plt.plot(X,y,'o')\n",
    "plt.plot(X,np.matmul(new_x,w_cl),label = \"w_cl\")\n",
    "plt.plot(X,np.matmul(new_x,w_gd),label = \"w_gd\")\n",
    "plt.plot(X,np.matmul(new_x,w_sgd),label = \"w_sgd\")\n",
    "\n",
    "\n",
    "plt.legend(loc = \"upper right\")\n",
    "plt.show()"
   ]
  },
  {
   "cell_type": "code",
   "execution_count": null,
   "metadata": {},
   "outputs": [],
   "source": []
  }
 ],
 "metadata": {
  "kernelspec": {
   "display_name": "Python 3",
   "language": "python",
   "name": "python3"
  },
  "language_info": {
   "codemirror_mode": {
    "name": "ipython",
    "version": 3
   },
   "file_extension": ".py",
   "mimetype": "text/x-python",
   "name": "python",
   "nbconvert_exporter": "python",
   "pygments_lexer": "ipython3",
   "version": "3.8.5"
  }
 },
 "nbformat": 4,
 "nbformat_minor": 4
}
