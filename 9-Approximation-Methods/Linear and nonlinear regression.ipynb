{
 "cells": [
  {
   "cell_type": "code",
   "execution_count": 1,
   "metadata": {},
   "outputs": [],
   "source": [
    "#######################Linear and nonlinear regression Closed-form, GD & SGD#########################\n",
    "import numpy as np\n",
    "import matplotlib.pyplot as plt\n",
    "\n",
    "X = np.arange(0,2*np.pi,0.1)\n",
    "X = X.reshape([np.size(X),1])\n",
    "y = np.sin(X)"
   ]
  },
  {
   "cell_type": "code",
   "execution_count": 2,
   "metadata": {},
   "outputs": [
    {
     "data": {
      "text/plain": [
       "array([[-0.07720218]])"
      ]
     },
     "execution_count": 2,
     "metadata": {},
     "output_type": "execute_result"
    }
   ],
   "source": [
    "w_cl= np.matmul(np.linalg.inv(np.matmul(X.T,X)),np.matmul(X.T,y))\n",
    "w_cl"
   ]
  },
  {
   "cell_type": "code",
   "execution_count": 3,
   "metadata": {},
   "outputs": [
    {
     "data": {
      "text/plain": [
       "array([[-0.07720218]])"
      ]
     },
     "execution_count": 3,
     "metadata": {},
     "output_type": "execute_result"
    }
   ],
   "source": [
    "# GD\n",
    "w_gd = np.zeros(np.shape(X)[1])\n",
    "w_gd = w_gd.reshape(np.shape(X)[1],1)\n",
    "jj=0\n",
    "alpha = 0.002\n",
    "while jj<100:\n",
    "    w_gd = w_gd - alpha *np.matmul(X.T , (np.matmul(X,w_gd) - y))\n",
    "    jj += 1\n",
    "w_gd"
   ]
  },
  {
   "cell_type": "code",
   "execution_count": 4,
   "metadata": {},
   "outputs": [
    {
     "data": {
      "text/plain": [
       "array([-0.0902147])"
      ]
     },
     "execution_count": 4,
     "metadata": {},
     "output_type": "execute_result"
    }
   ],
   "source": [
    "# SGD\n",
    "w_sgd = np.zeros(np.shape(X)[1])\n",
    "jj=0\n",
    "alpha = 0.002\n",
    "while jj<80:\n",
    "    for i in range(np.shape(X)[0]):\n",
    "        w_sgd = w_sgd + alpha*X[i,:] * (y[i] - np.matmul(w_sgd.T,X[i,:]))\n",
    "    jj += 1\n",
    "w_sgd"
   ]
  },
  {
   "cell_type": "code",
   "execution_count": 5,
   "metadata": {},
   "outputs": [
    {
     "data": {
      "image/png": "[encoded data removed]",
      "text/plain": [
       "<Figure size 432x288 with 1 Axes>"
      ]
     },
     "metadata": {
      "needs_background": "light"
     },
     "output_type": "display_data"
    }
   ],
   "source": [
    "plt.plot(X,y,'o')\n",
    "plt.plot(X,np.matmul(X,w_cl),label = \"w_cl\")\n",
    "plt.plot(X,np.matmul(X,w_gd),label = \"w_gd\")\n",
    "plt.plot(X,np.matmul(X,w_sgd),label = \"w_sgd\")\n",
    "\n",
    "\n",
    "plt.legend(loc = \"upper right\")\n",
    "plt.show()"
   ]
  },
  {
   "cell_type": "code",
   "execution_count": 6,
   "metadata": {},
   "outputs": [],
   "source": [
    "#########################Feature Engineering#################################\n",
    "num =15\n",
    "l = np.random.choice(len(X),num)\n",
    "l = X[l,:]\n",
    "l = np.unique(l)\n",
    "beta = 0.5\n",
    "similarities = {}\n",
    "for x in X[:,0]:\n",
    "    for i in l:\n",
    "        similarities[x,i] =  np.exp(-beta * np.abs(x-i)**2 )\n",
    "new_x = np.array(list(similarities.values()))\n",
    "new_x = new_x.reshape([np.shape(X)[0] , np.size(l)])"
   ]
  },
  {
   "cell_type": "code",
   "execution_count": 7,
   "metadata": {},
   "outputs": [
    {
     "data": {
      "text/plain": [
       "array([[-8.92800342e+03],\n",
       "       [ 7.42981719e+04],\n",
       "       [-1.00991656e+05],\n",
       "       [ 4.24706797e+04],\n",
       "       [-3.61140801e+04],\n",
       "       [ 4.40874980e+04],\n",
       "       [-3.08348760e+04],\n",
       "       [ 1.74453975e+04],\n",
       "       [-4.72022119e+03],\n",
       "       [ 3.30827112e+03],\n",
       "       [-3.52229285e+01],\n",
       "       [ 1.21185837e+01]])"
      ]
     },
     "execution_count": 7,
     "metadata": {},
     "output_type": "execute_result"
    }
   ],
   "source": [
    "w_cl = np.matmul(np.linalg.inv(np.matmul(new_x.T,new_x)),np.matmul(new_x.T,y))\n",
    "w_cl"
   ]
  },
  {
   "cell_type": "code",
   "execution_count": 8,
   "metadata": {},
   "outputs": [
    {
     "data": {
      "text/plain": [
       "array([[-0.1768299 ],\n",
       "       [-0.00186194],\n",
       "       [ 0.08124868],\n",
       "       [ 0.22666361],\n",
       "       [ 0.38593709],\n",
       "       [ 0.33717388],\n",
       "       [ 0.18645448],\n",
       "       [ 0.10814174],\n",
       "       [-0.11636465],\n",
       "       [-0.1471699 ],\n",
       "       [-0.50696309],\n",
       "       [-0.41756909]])"
      ]
     },
     "execution_count": 8,
     "metadata": {},
     "output_type": "execute_result"
    }
   ],
   "source": [
    "# GD\n",
    "w_gd = np.zeros(np.shape(new_x)[1])\n",
    "w_gd = w_gd.reshape(np.shape(new_x)[1],1)\n",
    "jj=0\n",
    "alpha = 0.002\n",
    "while jj<1000:\n",
    "    w_gd = w_gd - alpha *np.matmul(new_x.T , (np.matmul(new_x,w_gd) - y))\n",
    "    jj += 1\n",
    "w_gd"
   ]
  },
  {
   "cell_type": "code",
   "execution_count": 9,
   "metadata": {},
   "outputs": [
    {
     "data": {
      "text/plain": [
       "array([-0.00242504,  0.05038243,  0.0783394 ,  0.13429216,  0.26539569,\n",
       "        0.26845283,  0.21904142,  0.16871517, -0.09314863, -0.1350868 ,\n",
       "       -0.4764755 , -0.46785016])"
      ]
     },
     "execution_count": 9,
     "metadata": {},
     "output_type": "execute_result"
    }
   ],
   "source": [
    "# SGD\n",
    "w_sgd = np.zeros(np.shape(new_x)[1])\n",
    "jj=0\n",
    "alpha = 0.002\n",
    "while jj<80:\n",
    "    for i in range(np.shape(new_x)[0]):\n",
    "        w_sgd = w_sgd + alpha*new_x[i,:] * (y[i] - np.matmul(w_sgd.T,new_x[i,:]))\n",
    "    jj += 1\n",
    "w_sgd"
   ]
  },
  {
   "cell_type": "code",
   "execution_count": 10,
   "metadata": {},
   "outputs": [
    {
     "data": {
      "image/png": "[encoded data removed]",
      "text/plain": [
       "<Figure size 432x288 with 1 Axes>"
      ]
     },
     "metadata": {
      "needs_background": "light"
     },
     "output_type": "display_data"
    }
   ],
   "source": [
    "plt.plot(X,y,'o')\n",
    "plt.plot(X,np.matmul(new_x,w_cl),label = \"w_cl\")\n",
    "plt.plot(X,np.matmul(new_x,w_gd),label = \"w_gd\")\n",
    "plt.plot(X,np.matmul(new_x,w_sgd),label = \"w_sgd\")\n",
    "\n",
    "\n",
    "plt.legend(loc = \"upper right\")\n",
    "plt.show()"
   ]
  }
 ],
 "metadata": {
  "kernelspec": {
   "display_name": "Python 3",
   "language": "python",
   "name": "python3"
  },
  "language_info": {
   "codemirror_mode": {
    "name": "ipython",
    "version": 3
   },
   "file_extension": ".py",
   "mimetype": "text/x-python",
   "name": "python",
   "nbconvert_exporter": "python",
   "pygments_lexer": "ipython3",
   "version": "3.8.5"
  }
 },
 "nbformat": 4,
 "nbformat_minor": 4
}
