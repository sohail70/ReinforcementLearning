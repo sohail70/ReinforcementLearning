{
 "cells": [
  {
   "cell_type": "code",
   "execution_count": 1,
   "metadata": {},
   "outputs": [],
   "source": [
    "#######################Linear and nonlinear regression Closed-form, GD & SGD#########################\n",
    "import numpy as np\n",
    "import matplotlib.pyplot as plt\n",
    "\n",
    "X = np.arange(-3,3,0.05)\n",
    "X = X.reshape([np.size(X),1])\n",
    "y = X*np.cos(X)"
   ]
  },
  {
   "cell_type": "code",
   "execution_count": 2,
   "metadata": {},
   "outputs": [
    {
     "data": {
      "text/plain": [
       "array([[-0.55032547]])"
      ]
     },
     "execution_count": 2,
     "metadata": {},
     "output_type": "execute_result"
    }
   ],
   "source": [
    "w_cl= np.matmul(np.linalg.inv(np.matmul(X.T,X)),np.matmul(X.T,y))\n",
    "w_cl"
   ]
  },
  {
   "cell_type": "code",
   "execution_count": 3,
   "metadata": {},
   "outputs": [
    {
     "data": {
      "text/plain": [
       "array([[-0.53626183]])"
      ]
     },
     "execution_count": 3,
     "metadata": {},
     "output_type": "execute_result"
    }
   ],
   "source": [
    "# GD\n",
    "w_gd = np.zeros(np.shape(X)[1])\n",
    "w_gd = w_gd.reshape(np.shape(X)[1],1)\n",
    "jj=0\n",
    "alpha = 0.0001\n",
    "while jj<100:\n",
    "    w_gd = w_gd - alpha *np.matmul(X.T , (np.matmul(X,w_gd) - y))\n",
    "    jj += 1\n",
    "w_gd"
   ]
  },
  {
   "cell_type": "code",
   "execution_count": 4,
   "metadata": {},
   "outputs": [
    {
     "data": {
      "text/plain": [
       "array([-0.83763525])"
      ]
     },
     "execution_count": 4,
     "metadata": {},
     "output_type": "execute_result"
    }
   ],
   "source": [
    "# SGD\n",
    "w_sgd = np.zeros(np.shape(X)[1])\n",
    "jj=0\n",
    "alpha = 0.02\n",
    "while jj<80:\n",
    "    for i in range(np.shape(X)[0]):\n",
    "        w_sgd = w_sgd + alpha*X[i,:] * (y[i] - np.matmul(w_sgd.T,X[i,:]))\n",
    "    jj += 1\n",
    "w_sgd"
   ]
  },
  {
   "cell_type": "code",
   "execution_count": 5,
   "metadata": {},
   "outputs": [
    {
     "data": {
      "image/png": "[encoded data removed]",
      "text/plain": [
       "<Figure size 432x288 with 1 Axes>"
      ]
     },
     "metadata": {
      "needs_background": "light"
     },
     "output_type": "display_data"
    }
   ],
   "source": [
    "plt.plot(X,y,'o')\n",
    "plt.plot(X,np.matmul(X,w_cl),label = \"w_cl\")\n",
    "plt.plot(X,np.matmul(X,w_gd),label = \"w_gd\")\n",
    "plt.plot(X,np.matmul(X,w_sgd),label = \"w_sgd\")\n",
    "\n",
    "\n",
    "plt.legend(loc = \"upper right\")\n",
    "plt.show()"
   ]
  },
  {
   "cell_type": "code",
   "execution_count": 6,
   "metadata": {},
   "outputs": [],
   "source": [
    "#########################Feature Engineering#################################\n",
    "num =10\n",
    "l = np.random.choice(len(X),num)\n",
    "l = X[l,:]\n",
    "l = np.unique(l)\n",
    "beta = 0.3\n",
    "similarities = {}\n",
    "for x in X[:,0]:\n",
    "    for i in l:\n",
    "        similarities[x,i] =  np.exp(-beta * np.abs(x-i)**2 )\n",
    "new_x = np.array(list(similarities.values()))\n",
    "new_x = new_x.reshape([np.shape(X)[0] , np.size(l)])"
   ]
  },
  {
   "cell_type": "code",
   "execution_count": 7,
   "metadata": {},
   "outputs": [
    {
     "data": {
      "text/plain": [
       "array([[ 5.20344937e+00],\n",
       "       [ 2.05916405e+00],\n",
       "       [-2.28921700e+01],\n",
       "       [ 5.33184033e+03],\n",
       "       [-2.90960391e+04],\n",
       "       [ 2.09327547e+05],\n",
       "       [-2.97027172e+05],\n",
       "       [ 1.11489496e+05],\n",
       "       [-1.01006948e+01]])"
      ]
     },
     "execution_count": 7,
     "metadata": {},
     "output_type": "execute_result"
    }
   ],
   "source": [
    "w_cl = np.matmul(np.linalg.inv(np.matmul(new_x.T,new_x)),np.matmul(new_x.T,y))\n",
    "w_cl"
   ]
  },
  {
   "cell_type": "code",
   "execution_count": 8,
   "metadata": {},
   "outputs": [
    {
     "name": "stdout",
     "output_type": "stream",
     "text": [
      "Converged to  w =  [[ 3.82848852]\n",
      " [-0.0332199 ]\n",
      " [-2.78059123]\n",
      " [-0.65133814]\n",
      " [ 0.12460363]\n",
      " [ 0.81300555]\n",
      " [ 0.96307139]\n",
      " [ 1.10233693]\n",
      " [-2.79105844]]  on iter:  899\n"
     ]
    }
   ],
   "source": [
    "# GD\n",
    "w_gd = np.zeros(np.shape(new_x)[1])\n",
    "w_gd = w_gd.reshape(np.shape(new_x)[1],1)\n",
    "jj=0\n",
    "alpha = 0.001\n",
    "while True:\n",
    "    old_w = w_gd\n",
    "    w_gd = w_gd - alpha *np.matmul(new_x.T , (np.matmul(new_x,w_gd) - y))\n",
    "    \n",
    "    if np.linalg.norm(w_gd -old_w)<0.001:\n",
    "        break\n",
    "    elif jj>3000:\n",
    "        break\n",
    "    \n",
    "    jj += 1\n",
    "print(\"Converged to  w = \",w_gd,\" on iter: \",jj)\n"
   ]
  },
  {
   "cell_type": "code",
   "execution_count": 9,
   "metadata": {},
   "outputs": [
    {
     "name": "stdout",
     "output_type": "stream",
     "text": [
      "Converged to  w =  [ 3.47312354  0.48122132 -2.73476228 -2.08868372 -0.52912346  1.21482728\n",
      "  1.65941188  2.101419   -3.19222851]  on iter:  1598\n"
     ]
    }
   ],
   "source": [
    "# SGD\n",
    "w_sgd = np.zeros(np.shape(new_x)[1])\n",
    "jj=0\n",
    "alpha = 0.005\n",
    "while True:\n",
    "    old_w = w_sgd\n",
    "    for i in range(np.shape(new_x)[0]):\n",
    "        w_sgd = w_sgd + alpha*new_x[i,:] * (y[i] - np.matmul(w_sgd.T,new_x[i,:]))\n",
    "    \n",
    "    if np.linalg.norm(w_sgd -old_w)<0.001:\n",
    "        break\n",
    "    elif jj>3000:\n",
    "        break\n",
    "    \n",
    "    jj += 1\n",
    "print(\"Converged to  w = \",w_sgd,\" on iter: \",jj)\n"
   ]
  },
  {
   "cell_type": "code",
   "execution_count": 10,
   "metadata": {},
   "outputs": [
    {
     "data": {
      "image/png": "[encoded data removed]",
      "text/plain": [
       "<Figure size 432x288 with 1 Axes>"
      ]
     },
     "metadata": {
      "needs_background": "light"
     },
     "output_type": "display_data"
    }
   ],
   "source": [
    "plt.plot(X,y,'o')\n",
    "plt.plot(X,np.matmul(new_x,w_cl),label = \"w_cl\")\n",
    "plt.plot(X,np.matmul(new_x,w_gd),label = \"w_gd\")\n",
    "plt.plot(X,np.matmul(new_x,w_sgd),label = \"w_sgd\")\n",
    "\n",
    "\n",
    "plt.legend(loc = \"upper right\")\n",
    "plt.show()"
   ]
  },
  {
   "cell_type": "code",
   "execution_count": 49,
   "metadata": {},
   "outputs": [],
   "source": [
    "############################ RBF sampler###########################\n",
    "from sklearn.kernel_approximation import RBFSampler\n",
    "\n",
    "rbf = RBFSampler()\n",
    "X_train = np.arange(-3,3,0.05)\n",
    "y_train = X_train*np.cos(X_train)\n",
    "z = np.vstack((X_train,y_train))\n",
    "z = z.T\n",
    "rbf.fit(z)\n",
    "phi_X = rbf.transform(z)"
   ]
  },
  {
   "cell_type": "code",
   "execution_count": 37,
   "metadata": {},
   "outputs": [],
   "source": [
    "X_train = np.arange(-3,3,0.05)\n",
    "y_train = X_train*np.cos(X_train)"
   ]
  },
  {
   "cell_type": "code",
   "execution_count": 39,
   "metadata": {},
   "outputs": [],
   "source": [
    "z = np.vstack((X_train,y_train))"
   ]
  },
  {
   "cell_type": "code",
   "execution_count": 52,
   "metadata": {},
   "outputs": [
    {
     "data": {
      "text/plain": [
       "array([[ 0.018497  , -0.00286822,  0.06506612, ..., -0.08047213,\n",
       "        -0.07589827,  0.06085799],\n",
       "       [ 0.0278576 , -0.02757435,  0.06642606, ..., -0.08180611,\n",
       "        -0.08107748,  0.07619771],\n",
       "       [ 0.03828338, -0.05258171,  0.06809844, ..., -0.08211027,\n",
       "        -0.08719991,  0.09072778],\n",
       "       ...,\n",
       "       [-0.09519141,  0.09961753,  0.07220989, ...,  0.02254296,\n",
       "        -0.1256173 ,  0.10466455],\n",
       "       [-0.10362717,  0.11701072,  0.07412724, ...,  0.02332596,\n",
       "        -0.12945972,  0.11615923],\n",
       "       [-0.1106213 ,  0.12960836,  0.0757396 , ...,  0.02295776,\n",
       "        -0.13233731,  0.12547319]])"
      ]
     },
     "execution_count": 52,
     "metadata": {},
     "output_type": "execute_result"
    }
   ],
   "source": [
    "phi_X"
   ]
  },
  {
   "cell_type": "code",
   "execution_count": 42,
   "metadata": {},
   "outputs": [
    {
     "data": {
      "text/plain": [
       "array([[-3.00000000e+00,  2.96997749e+00],\n",
       "       [-2.95000000e+00,  2.89602150e+00],\n",
       "       [-2.90000000e+00,  2.81577868e+00],\n",
       "       [-2.85000000e+00,  2.72969363e+00],\n",
       "       [-2.80000000e+00,  2.63822255e+00],\n",
       "       [-2.75000000e+00,  2.54183154e+00],\n",
       "       [-2.70000000e+00,  2.44099478e+00],\n",
       "       [-2.65000000e+00,  2.33619282e+00],\n",
       "       [-2.60000000e+00,  2.22791076e+00],\n",
       "       [-2.55000000e+00,  2.11663651e+00],\n",
       "       [-2.50000000e+00,  2.00285904e+00],\n",
       "       [-2.45000000e+00,  1.88706657e+00],\n",
       "       [-2.40000000e+00,  1.76974492e+00],\n",
       "       [-2.35000000e+00,  1.65137573e+00],\n",
       "       [-2.30000000e+00,  1.53243485e+00],\n",
       "       [-2.25000000e+00,  1.41339065e+00],\n",
       "       [-2.20000000e+00,  1.29470246e+00],\n",
       "       [-2.15000000e+00,  1.17681898e+00],\n",
       "       [-2.10000000e+00,  1.06017682e+00],\n",
       "       [-2.05000000e+00,  9.45199017e-01],\n",
       "       [-2.00000000e+00,  8.32293673e-01],\n",
       "       [-1.95000000e+00,  7.21852621e-01],\n",
       "       [-1.90000000e+00,  6.14250177e-01],\n",
       "       [-1.85000000e+00,  5.09841957e-01],\n",
       "       [-1.80000000e+00,  4.08963770e-01],\n",
       "       [-1.75000000e+00,  3.11930597e-01],\n",
       "       [-1.70000000e+00,  2.19035640e-01],\n",
       "       [-1.65000000e+00,  1.30549467e-01],\n",
       "       [-1.60000000e+00,  4.67192357e-02],\n",
       "       [-1.55000000e+00, -3.22319831e-02],\n",
       "       [-1.50000000e+00, -1.06105803e-01],\n",
       "       [-1.45000000e+00, -1.74729016e-01],\n",
       "       [-1.40000000e+00, -2.37954000e-01],\n",
       "       [-1.35000000e+00, -2.95659028e-01],\n",
       "       [-1.30000000e+00, -3.47748477e-01],\n",
       "       [-1.25000000e+00, -3.94152953e-01],\n",
       "       [-1.20000000e+00, -4.34829305e-01],\n",
       "       [-1.15000000e+00, -4.69760557e-01],\n",
       "       [-1.10000000e+00, -4.98955734e-01],\n",
       "       [-1.05000000e+00, -5.22449600e-01],\n",
       "       [-1.00000000e+00, -5.40302306e-01],\n",
       "       [-9.50000000e-01, -5.52598935e-01],\n",
       "       [-9.00000000e-01, -5.59448971e-01],\n",
       "       [-8.50000000e-01, -5.60985674e-01],\n",
       "       [-8.00000000e-01, -5.57365367e-01],\n",
       "       [-7.50000000e-01, -5.48766652e-01],\n",
       "       [-7.00000000e-01, -5.35389531e-01],\n",
       "       [-6.50000000e-01, -5.17454469e-01],\n",
       "       [-6.00000000e-01, -4.95201369e-01],\n",
       "       [-5.50000000e-01, -4.68888487e-01],\n",
       "       [-5.00000000e-01, -4.38791281e-01],\n",
       "       [-4.50000000e-01, -4.05201196e-01],\n",
       "       [-4.00000000e-01, -3.68424398e-01],\n",
       "       [-3.50000000e-01, -3.28780449e-01],\n",
       "       [-3.00000000e-01, -2.86600947e-01],\n",
       "       [-2.50000000e-01, -2.42228105e-01],\n",
       "       [-2.00000000e-01, -1.96013316e-01],\n",
       "       [-1.50000000e-01, -1.48315662e-01],\n",
       "       [-1.00000000e-01, -9.95004165e-02],\n",
       "       [-5.00000000e-02, -4.99375130e-02],\n",
       "       [-1.06581410e-14, -1.06581410e-14],\n",
       "       [ 5.00000000e-02,  4.99375130e-02],\n",
       "       [ 1.00000000e-01,  9.95004165e-02],\n",
       "       [ 1.50000000e-01,  1.48315662e-01],\n",
       "       [ 2.00000000e-01,  1.96013316e-01],\n",
       "       [ 2.50000000e-01,  2.42228105e-01],\n",
       "       [ 3.00000000e-01,  2.86600947e-01],\n",
       "       [ 3.50000000e-01,  3.28780449e-01],\n",
       "       [ 4.00000000e-01,  3.68424398e-01],\n",
       "       [ 4.50000000e-01,  4.05201196e-01],\n",
       "       [ 5.00000000e-01,  4.38791281e-01],\n",
       "       [ 5.50000000e-01,  4.68888487e-01],\n",
       "       [ 6.00000000e-01,  4.95201369e-01],\n",
       "       [ 6.50000000e-01,  5.17454469e-01],\n",
       "       [ 7.00000000e-01,  5.35389531e-01],\n",
       "       [ 7.50000000e-01,  5.48766652e-01],\n",
       "       [ 8.00000000e-01,  5.57365367e-01],\n",
       "       [ 8.50000000e-01,  5.60985674e-01],\n",
       "       [ 9.00000000e-01,  5.59448971e-01],\n",
       "       [ 9.50000000e-01,  5.52598935e-01],\n",
       "       [ 1.00000000e+00,  5.40302306e-01],\n",
       "       [ 1.05000000e+00,  5.22449600e-01],\n",
       "       [ 1.10000000e+00,  4.98955734e-01],\n",
       "       [ 1.15000000e+00,  4.69760557e-01],\n",
       "       [ 1.20000000e+00,  4.34829305e-01],\n",
       "       [ 1.25000000e+00,  3.94152953e-01],\n",
       "       [ 1.30000000e+00,  3.47748477e-01],\n",
       "       [ 1.35000000e+00,  2.95659028e-01],\n",
       "       [ 1.40000000e+00,  2.37954000e-01],\n",
       "       [ 1.45000000e+00,  1.74729016e-01],\n",
       "       [ 1.50000000e+00,  1.06105803e-01],\n",
       "       [ 1.55000000e+00,  3.22319831e-02],\n",
       "       [ 1.60000000e+00, -4.67192357e-02],\n",
       "       [ 1.65000000e+00, -1.30549467e-01],\n",
       "       [ 1.70000000e+00, -2.19035640e-01],\n",
       "       [ 1.75000000e+00, -3.11930597e-01],\n",
       "       [ 1.80000000e+00, -4.08963770e-01],\n",
       "       [ 1.85000000e+00, -5.09841957e-01],\n",
       "       [ 1.90000000e+00, -6.14250177e-01],\n",
       "       [ 1.95000000e+00, -7.21852621e-01],\n",
       "       [ 2.00000000e+00, -8.32293673e-01],\n",
       "       [ 2.05000000e+00, -9.45199017e-01],\n",
       "       [ 2.10000000e+00, -1.06017682e+00],\n",
       "       [ 2.15000000e+00, -1.17681898e+00],\n",
       "       [ 2.20000000e+00, -1.29470246e+00],\n",
       "       [ 2.25000000e+00, -1.41339065e+00],\n",
       "       [ 2.30000000e+00, -1.53243485e+00],\n",
       "       [ 2.35000000e+00, -1.65137573e+00],\n",
       "       [ 2.40000000e+00, -1.76974492e+00],\n",
       "       [ 2.45000000e+00, -1.88706657e+00],\n",
       "       [ 2.50000000e+00, -2.00285904e+00],\n",
       "       [ 2.55000000e+00, -2.11663651e+00],\n",
       "       [ 2.60000000e+00, -2.22791076e+00],\n",
       "       [ 2.65000000e+00, -2.33619282e+00],\n",
       "       [ 2.70000000e+00, -2.44099478e+00],\n",
       "       [ 2.75000000e+00, -2.54183154e+00],\n",
       "       [ 2.80000000e+00, -2.63822255e+00],\n",
       "       [ 2.85000000e+00, -2.72969363e+00],\n",
       "       [ 2.90000000e+00, -2.81577868e+00],\n",
       "       [ 2.95000000e+00, -2.89602150e+00]])"
      ]
     },
     "execution_count": 42,
     "metadata": {},
     "output_type": "execute_result"
    }
   ],
   "source": [
    "z"
   ]
  },
  {
   "cell_type": "code",
   "execution_count": null,
   "metadata": {},
   "outputs": [],
   "source": []
  }
 ],
 "metadata": {
  "kernelspec": {
   "display_name": "Python 3",
   "language": "python",
   "name": "python3"
  },
  "language_info": {
   "codemirror_mode": {
    "name": "ipython",
    "version": 3
   },
   "file_extension": ".py",
   "mimetype": "text/x-python",
   "name": "python",
   "nbconvert_exporter": "python",
   "pygments_lexer": "ipython3",
   "version": "3.8.5"
  }
 },
 "nbformat": 4,
 "nbformat_minor": 4
}
