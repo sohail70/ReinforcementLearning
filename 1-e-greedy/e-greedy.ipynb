{
 "cells": [
  {
   "cell_type": "code",
   "execution_count": 14,
   "metadata": {},
   "outputs": [],
   "source": [
    "import numpy as np\n",
    "import matplotlib.pyplot as plt"
   ]
  },
  {
   "cell_type": "code",
   "execution_count": 3,
   "metadata": {},
   "outputs": [],
   "source": [
    "class bandit:\n",
    "    \n",
    "    def __init__(self,prob):\n",
    "        self.prob = prob\n",
    "        self.qValue = 0\n",
    "        self.count = 0\n",
    "        \n",
    "    def pull(self):\n",
    "        return np.random.random()<self.prob\n",
    "    \n",
    "    \n",
    "    def update(self,reward):\n",
    "        self.count = self.count + 1\n",
    "        self.qValue = self.qValue + ( (reward - self.qValue)/self.count)\n",
    "\n",
    "            "
   ]
  },
  {
   "cell_type": "markdown",
   "metadata": {},
   "source": [
    "Recursive formula for updating the sample mean \n",
    "\n",
    "$ \n",
    "\\hat{r}_N = \\frac{1}{N} \\sum_{i=1}^{N} = \\frac {1}{N} (\\sum_{i=1}^{N-1} r_i + r_N)  \\newline\n",
    "\\hat{r}_{N-1} \\sum_{i=1}^{N-1} r_i  \\newline\n",
    "\\rightarrow \\hat{Q}_N = \\hat{Q}_{N-1} + \\frac{1}{N} (r_N - \\hat{Q}_{N-1})\n",
    "$"
   ]
  },
  {
   "cell_type": "code",
   "execution_count": 4,
   "metadata": {},
   "outputs": [],
   "source": [
    "############## E-GREEDY ALGORITHM ################\n",
    "def eGreedy(qValues,epsilon):\n",
    "    if np.random.uniform() < epsilon  :\n",
    "        arm = np.random.randint(len(qValues))\n",
    "    else:\n",
    "        arm = np.argmax(qValues)    \n",
    "    return arm\n",
    "      "
   ]
  },
  {
   "cell_type": "code",
   "execution_count": 29,
   "metadata": {},
   "outputs": [
    {
     "name": "stdout",
     "output_type": "stream",
     "text": [
      "Q values:  [0.1720430107526881, 0.5290858725761777, 0.756231790223369]\n",
      "Best arm out of 3 arm is:  3\n",
      "num of times selected optimal bandit:  9267\n",
      "total reward is:  7263.0\n",
      "Win rate:  0.7263\n"
     ]
    },
    {
     "data": {
      "image/png": "[encoded data removed]",
      "text/plain": [
       "<Figure size 432x288 with 1 Axes>"
      ]
     },
     "metadata": {
      "needs_background": "light"
     },
     "output_type": "display_data"
    }
   ],
   "source": [
    "epsilon = 0.1\n",
    "NUM_TRIALS = 10000\n",
    "banditsProbs = [0.2, 0.5, 0.75]\n",
    "rewards = np.zeros(NUM_TRIALS)\n",
    "\n",
    "\n",
    "bandits = [bandit(x) for x in banditsProbs]\n",
    "optimalArm = np.argmax([b.prob for b in bandits])\n",
    "numOfOptimal = 0\n",
    "i=0\n",
    "while i < NUM_TRIALS :\n",
    "    arm = eGreedy([b.qValue for b in bandits] ,epsilon)\n",
    "    curReward = bandits[arm].pull()\n",
    "    bandits[arm].update(curReward)\n",
    "    rewards[i] = curReward\n",
    "    if arm == optimalArm:\n",
    "        numOfOptimal +=1\n",
    "    i=i+1\n",
    "\n",
    "print(\"Q values: \" ,[b.qValue for b in bandits])\n",
    "print(\"Best arm out of\",len(bandits) ,\"arm is: \", np.argmax([b.qValue for b in bandits])+1 )\n",
    "print(\"num of times selected optimal bandit: \",numOfOptimal)        \n",
    "print(\"total reward is: \",rewards.sum())\n",
    "print(\"Win rate: \",rewards.sum()/NUM_TRIALS)\n",
    "\n",
    "cumulativeRewards = np.cumsum(rewards)\n",
    "winRates = cumulativeRewards/(np.arange(NUM_TRIALS)+1)\n",
    "\n",
    "plt.plot(winRates)\n",
    "plt.plot(np.ones(NUM_TRIALS)*np.max(banditsProbs))\n",
    "plt.show()"
   ]
  }
 ],
 "metadata": {
  "kernelspec": {
   "display_name": "Python 3",
   "language": "python",
   "name": "python3"
  },
  "language_info": {
   "codemirror_mode": {
    "name": "ipython",
    "version": 3
   },
   "file_extension": ".py",
   "mimetype": "text/x-python",
   "name": "python",
   "nbconvert_exporter": "python",
   "pygments_lexer": "ipython3",
   "version": "3.8.5"
  }
 },
 "nbformat": 4,
 "nbformat_minor": 4
}
