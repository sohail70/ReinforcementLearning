{
 "cells": [
  {
   "cell_type": "code",
   "execution_count": 1,
   "metadata": {},
   "outputs": [],
   "source": [
    "import numpy as np"
   ]
  },
  {
   "cell_type": "code",
   "execution_count": 60,
   "metadata": {},
   "outputs": [],
   "source": [
    "class bandit:\n",
    "    \n",
    "    def __init__(self,numOfArms,bestArm):\n",
    "        self.numOfArms = numOfArms\n",
    "        self.qValues = np.zeros(numOfArms)\n",
    "        self.counts = np.zeros(numOfArms)\n",
    "        self.bestArm = bestArm\n",
    "        \n",
    "    def pull(self,armNum):\n",
    "        if armNum>=self.numOfArms or armNum<0:\n",
    "            print(\"Choose an appropriate arm\")\n",
    "            return\n",
    "        if armNum == self.bestArm: \n",
    "            reward = np.random.normal(1,1)\n",
    "            self.counts[armNum] = self.counts[armNum] + 1\n",
    "            self.qValues[armNum] = self.qValues[armNum] + ( (reward - self.qValues[armNum])/self.counts[armNum] )\n",
    "            \n",
    "\n",
    "        else:\n",
    "            reward = np.random.normal(0,1)\n",
    "            self.counts[armNum] = self.counts[armNum] + 1\n",
    "            self.qValues[armNum] = self.qValues[armNum] + ( (reward - self.qValues[armNum])/self.counts[armNum] ) \n",
    "            "
   ]
  },
  {
   "cell_type": "markdown",
   "metadata": {},
   "source": [
    "Recursive formula for updating the sample mean \n",
    "\n",
    "$ \n",
    "\\hat{r}_N = \\frac{1}{N} \\sum_{i=1}^{N} = \\frac {1}{N} (\\sum_{i=1}^{N-1} r_i + r_N)  \\newline\n",
    "\\hat{r}_{N-1} \\sum_{i=1}^{N-1} r_i  \\newline\n",
    "\\rightarrow \\hat{Q}_N = \\hat{Q}_{N-1} + \\frac{1}{N} (r_N - \\hat{Q}_{N-1})\n",
    "$"
   ]
  },
  {
   "cell_type": "code",
   "execution_count": 23,
   "metadata": {},
   "outputs": [],
   "source": [
    "############## E-GREEDY ALGORITHM ################\n",
    "class EGreedy:\n",
    "    \n",
    "    def __init__(self,epsilon,numOfArms):\n",
    "        self.epsilon = epsilon\n",
    "        self.numOfArms = numOfArms\n",
    "\n",
    "    def eGreedyAction(self,qValues):\n",
    "        if self.epsilon == 0 :\n",
    "            self.arm = np.argmax(qValues)\n",
    "        elif self.epsilon < np.random.uniform():\n",
    "            self.arm = np.random.randint(0,self.numOfArms)\n",
    "        else:\n",
    "            self.arm = np.argmax(qValues)\n",
    "        \n",
    "        \n",
    "        return self.arm\n",
    "    \n",
    "        \n",
    "        "
   ]
  },
  {
   "cell_type": "code",
   "execution_count": 66,
   "metadata": {},
   "outputs": [
    {
     "name": "stdout",
     "output_type": "stream",
     "text": [
      "Problem Definition: arms? best Arm(index starts from zero)? 8 7\n",
      "epsilon? 0.1\n",
      "\n",
      " Solution: Q values are as follows:  [-5.81692925e-03  5.86151369e-03 -9.39678241e-03  2.01755159e-02\n",
      " -1.89493623e-02  1.17509327e-04  2.27424189e-03  1.00206587e+00] \n",
      " And the best arm out of 8 arm is:  7\n"
     ]
    }
   ],
   "source": [
    "numOfArms,bestArm = [int(x) for x in input(\"Problem Definition: arms? best Arm? \").split()] #index starts from zero!\n",
    "epsilon = float(input(\"epsilon? \"))\n",
    "\n",
    "arms = bandit(numOfArms,bestArm)\n",
    "egreedy = EGreedy(epsilon,numOfArms)\n",
    "i=1\n",
    "while i<100000 :\n",
    "    i=i+1\n",
    "    a = egreedy.eGreedyAction(arms.qValues)\n",
    "    arms.pull(a)\n",
    "\n",
    "print(\"\\n Solution: Q values are as follows: \" ,arms.qValues ,\n",
    "      \"\\n\" , \"And the index of the best arm out of\",arms.numOfArms ,\"arm is: \", np.argmax(arms.qValues))\n",
    "        "
   ]
  }
 ],
 "metadata": {
  "kernelspec": {
   "display_name": "Python 3",
   "language": "python",
   "name": "python3"
  },
  "language_info": {
   "codemirror_mode": {
    "name": "ipython",
    "version": 3
   },
   "file_extension": ".py",
   "mimetype": "text/x-python",
   "name": "python",
   "nbconvert_exporter": "python",
   "pygments_lexer": "ipython3",
   "version": "3.8.5"
  }
 },
 "nbformat": 4,
 "nbformat_minor": 4
}
