{
 "cells": [
  {
   "cell_type": "code",
   "execution_count": 1,
   "metadata": {},
   "outputs": [],
   "source": [
    "import numpy as np"
   ]
  },
  {
   "cell_type": "code",
   "execution_count": 167,
   "metadata": {},
   "outputs": [],
   "source": [
    "class bandit:\n",
    "    \n",
    "    def __init__(self,prob):\n",
    "        self.prob = prob\n",
    "        self.qValue = 0\n",
    "        self.count = 0\n",
    "        \n",
    "    def pull(self):\n",
    "        return np.random.random()<self.prob\n",
    "    \n",
    "    \n",
    "    def update(self,reward):\n",
    "        self.count = self.count + 1\n",
    "        self.qValue = self.qValue + ( (reward - self.qValue)/self.count)\n",
    "\n",
    "            "
   ]
  },
  {
   "cell_type": "markdown",
   "metadata": {},
   "source": [
    "Recursive formula for updating the sample mean \n",
    "\n",
    "$ \n",
    "\\hat{r}_N = \\frac{1}{N} \\sum_{i=1}^{N} = \\frac {1}{N} (\\sum_{i=1}^{N-1} r_i + r_N)  \\newline\n",
    "\\hat{r}_{N-1} \\sum_{i=1}^{N-1} r_i  \\newline\n",
    "\\rightarrow \\hat{Q}_N = \\hat{Q}_{N-1} + \\frac{1}{N} (r_N - \\hat{Q}_{N-1})\n",
    "$"
   ]
  },
  {
   "cell_type": "code",
   "execution_count": 216,
   "metadata": {},
   "outputs": [],
   "source": [
    "############## E-GREEDY ALGORITHM ################\n",
    "def eGreedy(qValues,epsilon):\n",
    "    if np.random.uniform() < epsilon  :\n",
    "        arm = np.random.randint(len(qValues))\n",
    "    else:\n",
    "        arm = np.argmax(qValues)    \n",
    "    return arm\n",
    "      "
   ]
  },
  {
   "cell_type": "code",
   "execution_count": 220,
   "metadata": {},
   "outputs": [
    {
     "name": "stdout",
     "output_type": "stream",
     "text": [
      "\n",
      " Solution: Q values are as follows:  [0.21680216802168029, 0.4987080103359177, 0.7437256598874978] \n",
      " And the best arm out of 3 arm is:  3\n",
      "number of optimal:  9244\n",
      "total reward is:  7148.0\n"
     ]
    }
   ],
   "source": [
    "epsilon = 0.1\n",
    "NUM_TRIALS = 10000\n",
    "banditsWinRate = [0.2, 0.5, 0.75]\n",
    "rewards = np.zeros(NUM_TRIALS)\n",
    "\n",
    "\n",
    "bandits = [bandit(x) for x in banditsWinRate]\n",
    "optimalArm = np.argmax([b.prob for b in bandits])\n",
    "numOfOptimal = 0\n",
    "i=0\n",
    "while i < NUM_TRIALS :\n",
    "    arm = eGreedy([b.qValue for b in bandits] ,epsilon)\n",
    "    curReward = bandits[arm].pull()\n",
    "    bandits[arm].update(curReward)\n",
    "    rewards[i] = curReward\n",
    "    if arm == optimalArm:\n",
    "        numOfOptimal +=1\n",
    "    i=i+1\n",
    "\n",
    "print(\"\\n Solution: Q values are as follows: \" ,[b.qValue for b in bandits] ,\n",
    "      \"\\n\" , \"And the best arm out of\",len(bandits) ,\"arm is: \", np.argmax([b.qValue for b in bandits])+1 )\n",
    "print(\"number of optimal: \",numOfOptimal)        \n",
    "print(\"total reward is: \",rewards.sum())"
   ]
  },
  {
   "cell_type": "code",
   "execution_count": 170,
   "metadata": {},
   "outputs": [
    {
     "data": {
      "text/plain": [
       "0.5081310983237425"
      ]
     },
     "execution_count": 170,
     "metadata": {},
     "output_type": "execute_result"
    }
   ],
   "source": [
    "bandits[1].qValue"
   ]
  },
  {
   "cell_type": "code",
   "execution_count": 130,
   "metadata": {},
   "outputs": [],
   "source": [
    "banditsWinRate = [0.1, 0.5, 0.2]\n",
    "bandits =[ bandit(x) for x in banditsWinRate]"
   ]
  },
  {
   "cell_type": "code",
   "execution_count": 212,
   "metadata": {},
   "outputs": [
    {
     "data": {
      "text/plain": [
       "2"
      ]
     },
     "execution_count": 212,
     "metadata": {},
     "output_type": "execute_result"
    }
   ],
   "source": [
    "np.argmax([b.qValue for b in bandits])   "
   ]
  },
  {
   "cell_type": "code",
   "execution_count": 209,
   "metadata": {},
   "outputs": [
    {
     "data": {
      "text/plain": [
       "0.7500538444970944"
      ]
     },
     "execution_count": 209,
     "metadata": {},
     "output_type": "execute_result"
    }
   ],
   "source": [
    "bandits[2].qValue"
   ]
  },
  {
   "cell_type": "code",
   "execution_count": 218,
   "metadata": {},
   "outputs": [],
   "source": [
    "epsilon = 0.1\n",
    "NUM_TRIALS = 10000\n",
    "banditsWinRate = [0.2, 0.5, 0.75]\n",
    "rewards = np.zeros(NUM_TRIALS)\n",
    "\n",
    "\n",
    "bandits = [bandit(x) for x in banditsWinRate]\n",
    "optimalArm = np.argmax([b.qValue for b in bandits])"
   ]
  },
  {
   "cell_type": "code",
   "execution_count": 219,
   "metadata": {},
   "outputs": [
    {
     "data": {
      "text/plain": [
       "0"
      ]
     },
     "execution_count": 219,
     "metadata": {},
     "output_type": "execute_result"
    }
   ],
   "source": [
    "optimalArm"
   ]
  },
  {
   "cell_type": "code",
   "execution_count": null,
   "metadata": {},
   "outputs": [],
   "source": []
  }
 ],
 "metadata": {
  "kernelspec": {
   "display_name": "Python 3",
   "language": "python",
   "name": "python3"
  },
  "language_info": {
   "codemirror_mode": {
    "name": "ipython",
    "version": 3
   },
   "file_extension": ".py",
   "mimetype": "text/x-python",
   "name": "python",
   "nbconvert_exporter": "python",
   "pygments_lexer": "ipython3",
   "version": "3.8.5"
  }
 },
 "nbformat": 4,
 "nbformat_minor": 4
}
