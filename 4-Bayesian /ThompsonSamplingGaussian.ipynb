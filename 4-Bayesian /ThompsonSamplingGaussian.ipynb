{
 "cells": [
  {
   "cell_type": "code",
   "execution_count": 1,
   "metadata": {},
   "outputs": [],
   "source": [
    "import numpy as np\n",
    "from scipy.stats import norm\n",
    "import matplotlib.pyplot as plt"
   ]
  },
  {
   "cell_type": "code",
   "execution_count": 2,
   "metadata": {},
   "outputs": [],
   "source": [
    "class bandit:\n",
    "\n",
    "    def __init__(self,trueMean):\n",
    "        self.trueMean = trueMean\n",
    "        self.lambda_ = 1\n",
    "        self.predMean = 0\n",
    "        self.tau = 1\n",
    "        self.count = 0\n",
    "        \n",
    "    def sample(self):\n",
    "        return np.random.normal(self.predMean,np.sqrt(1/self.lambda_))\n",
    "        #return np.random.randn() / np.sqrt(self.lambda_) + self.predMean\n",
    "    def pull(self):\n",
    "        return np.random.normal(self.trueMean,np.sqrt(1/self.tau))\n",
    "        #return np.random.randn() / np.sqrt(self.tau) + self.trueMean\n",
    "    \n",
    "    def update(self,reward):\n",
    "        self.count = self.count + 1\n",
    "        self.predMean = (self.predMean * self.lambda_ + self.tau * reward ) / (self.lambda_ + self.tau)\n",
    "        self.lambda_ += self.tau\n",
    "        \n",
    "        "
   ]
  },
  {
   "cell_type": "code",
   "execution_count": 3,
   "metadata": {},
   "outputs": [],
   "source": [
    "############# BAYESIAN ################\n",
    "def Bayesian(samples):\n",
    "    arm = np.argmax(samples)    \n",
    "    return arm"
   ]
  },
  {
   "cell_type": "markdown",
   "metadata": {},
   "source": [
    "$ \\lambda_{N+1} = \\lambda_N + \\tau \\newline\n",
    "m_{N+1} = \\frac{m_N \\lambda_N+\\tau x_{N+1}}{\\lambda_N+\\tau} $"
   ]
  },
  {
   "cell_type": "code",
   "execution_count": 4,
   "metadata": {},
   "outputs": [
    {
     "name": "stdout",
     "output_type": "stream",
     "text": [
      "Distributions are:  [[-0.030241709909383352, 0.7071067811865476], [1.7621463721101156, 0.23570226039551584], [3.017585708500618, 0.022456322822201027]]\n",
      "num of times we've selected the bandits:  [1, 17, 1982]\n",
      "total reward is:  6015.53061123489\n",
      "Win rate:  3.007765305617445\n"
     ]
    },
    {
     "data": {
      "image/png": "[encoded data removed]",
      "text/plain": [
       "<Figure size 432x288 with 1 Axes>"
      ]
     },
     "metadata": {
      "needs_background": "light"
     },
     "output_type": "display_data"
    },
    {
     "data": {
      "image/png": "[encoded data removed]",
      "text/plain": [
       "<Figure size 432x288 with 1 Axes>"
      ]
     },
     "metadata": {
      "needs_background": "light"
     },
     "output_type": "display_data"
    },
    {
     "data": {
      "image/png": "[encoded data removed]",
      "text/plain": [
       "<Figure size 432x288 with 1 Axes>"
      ]
     },
     "metadata": {
      "needs_background": "light"
     },
     "output_type": "display_data"
    }
   ],
   "source": [
    "############ TEST CASE#################\n",
    "NUM_TRIALS = 2000\n",
    "banditsMeans = [1,2, 3]\n",
    "rewards = np.zeros(NUM_TRIALS)\n",
    "regrets = np.zeros(NUM_TRIALS)\n",
    "\n",
    "\n",
    "bandits = [bandit(x) for x in banditsMeans]\n",
    "optimalArm = np.argmax([b.trueMean for b in bandits])\n",
    "\n",
    "i=0\n",
    "while i < NUM_TRIALS :\n",
    "    arm = Bayesian([b.sample() for b in bandits])\n",
    "    curReward = bandits[arm].pull()\n",
    "    bandits[arm].update(curReward)\n",
    "    rewards[i] = curReward\n",
    "    regrets[i] = banditsMeans[optimalArm] - banditsMeans[arm]\n",
    "    i=i+1\n",
    "    \n",
    "    \n",
    "    \n",
    "\n",
    "print(\"Distributions are: \" ,[[b.predMean,np.sqrt(1/b.lambda_)] for b in bandits])\n",
    "#print(\"Best arm out of\",len(bandits) ,\"arm is: \", np.argmax([b.qValue for b in bandits])+1 )\n",
    "print(\"num of times we've selected the bandits: \",[b.count for b in bandits])        \n",
    "print(\"total reward is: \",rewards.sum())\n",
    "print(\"Win rate: \",rewards.sum()/NUM_TRIALS)\n",
    "\n",
    "cumulativeRewards = np.cumsum(rewards)\n",
    "winRates = cumulativeRewards/(np.arange(NUM_TRIALS)+1)\n",
    "\n",
    "plt.subplot(3,1,1)\n",
    "plt.plot(winRates)\n",
    "plt.xlabel(\"TimeSteps\")\n",
    "plt.ylabel(\"Cumulative Win Rates\")\n",
    "for b in banditsMeans:\n",
    "    plt.plot(np.ones(NUM_TRIALS)*(b))\n",
    "plt.show()\n",
    "\n",
    "regrets = np.cumsum(regrets) #cumulative rewards loss due to the need of learning\n",
    "plt.subplot(3,1,2)\n",
    "plt.plot(regrets)\n",
    "plt.xlabel(\"TimeSteps\")\n",
    "plt.ylabel(\"Cumulative Regrets\")\n",
    "plt.show()\n",
    "#plt.subplot(3,1,3)\n",
    "x = np.linspace(-3,6,200)\n",
    "for b in bandits:\n",
    "    y = norm.pdf(x,b.predMean,np.sqrt(1/b.lambda_))\n",
    "    plt.plot(x,y,label=f\"real mean: {b.trueMean:.4f}, num plays: {b.count}\")\n",
    "    plt.title(f\"Bandit distributions after {NUM_TRIALS} trials\")\n",
    "    plt.legend()\n",
    "plt.show()\n",
    "\n"
   ]
  },
  {
   "cell_type": "code",
   "execution_count": null,
   "metadata": {},
   "outputs": [],
   "source": []
  }
 ],
 "metadata": {
  "kernelspec": {
   "display_name": "Python 3",
   "language": "python",
   "name": "python3"
  },
  "language_info": {
   "codemirror_mode": {
    "name": "ipython",
    "version": 3
   },
   "file_extension": ".py",
   "mimetype": "text/x-python",
   "name": "python",
   "nbconvert_exporter": "python",
   "pygments_lexer": "ipython3",
   "version": "3.8.5"
  }
 },
 "nbformat": 4,
 "nbformat_minor": 4
}
